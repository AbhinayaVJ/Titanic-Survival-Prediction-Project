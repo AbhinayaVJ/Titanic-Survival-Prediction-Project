{
  "cells": [
    {
      "cell_type": "markdown",
      "metadata": {},
      "source": [
        "import numpy as np\n",
        "import pandas as pd\n",
        "import matplotlib.pyplot as plt\n",
        "import seaborn as sns\n",
        "from sklearn.preprocessing import MinMaxScaler\n",
        "\n",
        "from sklearn.linear_model import LinearRegression\n",
        "from sklearn.ensemble import RandomForestClassifier\n",
        "from sklearn.ensemble import RandomForestClassifier, GradientBoostingClassifier\n",
        "from sklearn.linear_model import LogisticRegression\n",
        "from sklearn.model_selection import train_test_split\n",
        "from sklearn.metrics import accuracy_score\n",
        "\n",
        "from sklearn.metrics import confusion_matrix, classification_report"
      ]
    },
    {
      "cell_type": "markdown",
      "metadata": {},
      "source": [
        "def histogram_rep(df,col_name, total_rows,x_label, x_labels, title, figsize):\n",
        "    numeric_data = pd.to_numeric(df[col_name], errors='coerce')\n",
        "    nan_count = numeric_data.isnull().sum()\n",
        "    percentage_non_numeric = (nan_count / total_rows) * 100\n",
        "    print(f\"Percentage of non-numerical values in the '{col_name}' column: {percentage_non_numeric:.2f}%\")\n",
        "\n",
        "    # Get unique values in the 'previous' column\n",
        "    unique_values = df[col_name].unique()\n",
        "    print(\"Unique values in '{col_name}' column:\")\n",
        "    \n",
        "    # Calculate the percentage of each unique value\n",
        "    percentage_values = []\n",
        "    for value in unique_values:\n",
        "        count = (df[col_name] == value).sum()\n",
        "        percentage = (count / total_rows) * 100\n",
        "        percentage_values.append(percentage)\n",
        "        print(f\"Value: {value}, Percentage: {percentage:.2f}%\")\n",
        "\n",
        "    plt.figure(figsize=figsize)\n",
        "    plt.bar(unique_values, percentage_values)\n",
        "    plt.xlabel(x_label)\n",
        "    plt.ylabel('Percentage')\n",
        "    plt.title(title)\n",
        "    plt.xticks(unique_values, x_labels)\n",
        "    plt.show()    "
      ]
    },
    {
      "cell_type": "markdown",
      "metadata": {},
      "source": [
        "def survival_percentage(data, column_name):\n",
        "    unique_values = data[column_name].unique()\n",
        "    \n",
        "    percentages = {}\n",
        "    \n",
        "    for value in unique_values:\n",
        "        subset = data[data[column_name] == value]\n",
        "        survived_count = subset[\"Survived\"].sum()\n",
        "        total_count = len(subset)\n",
        "        if total_count > 0:\n",
        "            percentage = (survived_count / total_count) * 100\n",
        "            percentages[value] = percentage\n",
        "    \n",
        "    return percentages\n"
      ]
    },
    {
      "cell_type": "code",
      "execution_count": null,
      "metadata": {
        "trusted": true
      },
      "outputs": [],
      "source": [
        "def survival_percentage_continuous(data, column_name, num_bins=None, bin_labels=None):\n",
        "    if num_bins is None:\n",
        "        num_bins = 10  # Default number of bins if not specified\n",
        "    \n",
        "    if bin_labels is None:\n",
        "        bin_labels = [f'Bin {i+1}' for i in range(num_bins)]  # Default bin labels\n",
        "    \n",
        "    # Create bins for the specified column\n",
        "    data['bins'] = pd.cut(data[column_name], bins=num_bins, labels=bin_labels)\n",
        "    \n",
        "    # Calculate survival percentages for each bin\n",
        "    bin_percentages = {}\n",
        "    \n",
        "    for bin_label in bin_labels:\n",
        "        subset = data[data['bins'] == bin_label]\n",
        "        survived_count = subset['Survived'].sum()\n",
        "        total_count = len(subset)\n",
        "        \n",
        "        if total_count > 0:\n",
        "            percentage = (survived_count / total_count) * 100\n",
        "            bin_percentages[bin_label] = percentage\n",
        "    \n",
        "    # Remove the 'bins' column from the DataFrame (optional)\n",
        "    data.drop(columns=['bins'], inplace=True)\n",
        "    plt.figure(figsize=(10, 6))\n",
        "    plt.bar(bin_percentages.keys(), bin_percentages.values(), color='skyblue')\n",
        "    plt.xlabel('Bins')\n",
        "    plt.ylabel('Survival Percentage (%)')\n",
        "    plt.title(f'Survival Percentage by {column_name}')\n",
        "    plt.xticks(rotation=45)\n",
        "    plt.grid(axis='y')\n",
        "    plt.show()\n",
        "    \n",
        "    return bin_percentages"
      ]
    },
    {
      "cell_type": "code",
      "execution_count": null,
      "metadata": {
        "trusted": true
      },
      "outputs": [],
      "source": [
        "def draw_pie_chart(percentages):\n",
        "    labels = percentages.keys()\n",
        "    sizes = list(percentages.values())  # Convert dict_values to a list\n",
        "    \n",
        "    # Generate a list of shades of blue based on the number of categories\n",
        "    num_categories = len(labels)\n",
        "    colors = plt.cm.Blues(np.linspace(0.1, 1, num_categories))\n",
        "    \n",
        "    plt.figure(figsize=(8, 6))  # Adjust the figure size as needed\n",
        "    plt.pie(sizes, labels=None, colors=colors, autopct=lambda p: f'{p:.1f}%' if p > 0 else '', startangle=140)\n",
        "    plt.axis('equal')  # Equal aspect ratio ensures that pie is drawn as a circle.\n",
        "    plt.title('Survival Percentage by Category')\n",
        "    \n",
        "    # Add custom legend\n",
        "    legend_labels = [f'{label} ({sizes[i]:.1f}%)' for i, label in enumerate(labels) if sizes[i] > 0]\n",
        "    plt.legend(legend_labels, loc='best')\n",
        "    \n",
        "    plt.show()"
      ]
    },
    {
      "cell_type": "code",
      "execution_count": null,
      "metadata": {
        "trusted": true
      },
      "outputs": [],
      "source": [
        "def find_between(s, first, last):\n",
        "    try:\n",
        "        start = s.index( first ) + len( first )\n",
        "        end = s.index( last, start )\n",
        "        return s[start:end]\n",
        "    except ValueError:\n",
        "        return \"\""
      ]
    },
    {
      "cell_type": "code",
      "execution_count": null,
      "metadata": {
        "trusted": true
      },
      "outputs": [],
      "source": [
        "def percent(col_name, total_rows):\n",
        "    numeric_data = pd.to_numeric(df[col_name], errors='coerce')\n",
        "    nan_count = numeric_data.isnull().sum()\n",
        "    percentage_non_numeric = (nan_count / total_rows) * 100\n",
        "    print(f\"Percentage of non-numerical values in the '{col_name}' column: {percentage_non_numeric:.2f}%\")\n",
        "\n",
        "    # Get unique values in the 'previous' column\n",
        "    unique_values = df[col_name].unique()\n",
        "    print(\"Unique values in '{col_name}' column:\")\n",
        "    \n",
        "    # Calculate the percentage of each unique value\n",
        "    percentage_values = []\n",
        "    for value in unique_values:\n",
        "        count = (df[col_name] == value).sum()\n",
        "        percentage = (count / total_rows) * 100\n",
        "        percentage_values.append(percentage)\n",
        "        print(f\"Value: {value}, Percentage: {percentage:.2f}%\")"
      ]
    },
    {
      "cell_type": "code",
      "execution_count": null,
      "metadata": {
        "trusted": true
      },
      "outputs": [],
      "source": [
        "def get_null_percentage(dataframe):\n",
        "    # Calculate the total number of rows in the DataFrame\n",
        "    total_rows = len(dataframe)\n",
        "    \n",
        "    # Calculate the percentage of null values for each feature\n",
        "    null_percentage = (dataframe.isnull().sum() / total_rows) * 100\n",
        "    \n",
        "    return null_percentage"
      ]
    },
    {
      "cell_type": "code",
      "execution_count": null,
      "metadata": {
        "trusted": true
      },
      "outputs": [],
      "source": [
        "def extract_ticket_category(ticket):\n",
        "    if pd.isna(ticket):\n",
        "        return None\n",
        "    elif ' ' in ticket:\n",
        "        return ticket.split(' ')[0]\n",
        "    else:\n",
        "        return 'Normal'"
      ]
    },
    {
      "cell_type": "code",
      "execution_count": null,
      "metadata": {
        "trusted": true
      },
      "outputs": [],
      "source": [
        "def fill_null_with_mode(dataframe, column_name):\n",
        "    # Calculate the mode of the column\n",
        "    mode_value = dataframe[column_name].mode().iloc[0]\n",
        "    \n",
        "    # Fill null values with the mode\n",
        "    dataframe[column_name].fillna(mode_value, inplace=True)"
      ]
    },
    {
      "cell_type": "code",
      "execution_count": null,
      "metadata": {
        "trusted": true
      },
      "outputs": [],
      "source": [
        "df = pd.read_csv('/kaggle/input/test-file/tested.csv')"
      ]
    },
    {
      "cell_type": "code",
      "execution_count": null,
      "metadata": {
        "trusted": true
      },
      "outputs": [],
      "source": [
        "print(df.head)"
      ]
    },
    {
      "cell_type": "code",
      "execution_count": null,
      "metadata": {
        "trusted": true
      },
      "outputs": [],
      "source": [
        "df.describe()"
      ]
    },
    {
      "cell_type": "code",
      "execution_count": null,
      "metadata": {
        "trusted": true
      },
      "outputs": [],
      "source": [
        "print(df.info)"
      ]
    },
    {
      "cell_type": "code",
      "execution_count": null,
      "metadata": {
        "trusted": true
      },
      "outputs": [],
      "source": [
        "features = ['Pclass','Name', 'Sex', 'Age', 'SibSp', 'Parch', 'Ticket', 'Fare', 'Cabin', 'Embarked','Survived']\n",
        "null_percentage = get_null_percentage(df[features])\n",
        "\n",
        "# Print the null percentage for each feature\n",
        "print(\"Percentage of null values for each feature:\")\n",
        "print(null_percentage,\"%\")"
      ]
    },
    {
      "cell_type": "code",
      "execution_count": null,
      "metadata": {
        "trusted": true
      },
      "outputs": [],
      "source": [
        "df.drop(columns=['Cabin'], inplace=True)\n",
        "df.drop(columns=['Age'], inplace=True)"
      ]
    },
    {
      "cell_type": "code",
      "execution_count": null,
      "metadata": {
        "trusted": true
      },
      "outputs": [],
      "source": [
        "features = [feature for feature in features if feature not in ['Cabin', 'Age']]\n",
        "​\n",
        "# Print the updated features list\n",
        "print(features)"
      ]
    },
    {
      "cell_type": "code",
      "execution_count": null,
      "metadata": {
        "trusted": true
      },
      "outputs": [],
      "source": [
        "sex_result = survival_percentage(df, \"Sex\")\n",
        "\n",
        "for key, value in sex_result.items():\n",
        "    print(f\"precentage of {key} who survived: {value:.2f}%\")\n",
        "    \n",
        "draw_pie_chart(sex_result)"
      ]
    },
    {
      "cell_type": "code",
      "execution_count": null,
      "metadata": {
        "trusted": true
      },
      "outputs": [],
      "source": [
        "df['Title'] = df.apply(lambda row: find_between(row['Name'], \", \", \".\"), axis=1)\n",
        "features.append('Title')\n",
        "df.drop(columns=['Name'], inplace=True)\n",
        "print(df['Title'])"
      ]
    },
    {
      "cell_type": "code",
      "execution_count": null,
      "metadata": {
        "trusted": true
      },
      "outputs": [],
      "source": [
        "features.remove('Name')\n",
        "\n",
        "# Print the updated features list\n",
        "print(features)"
      ]
    },
    {
      "cell_type": "code",
      "execution_count": null,
      "metadata": {
        "trusted": true
      },
      "outputs": [],
      "source": [
        "col_name = 'Title'\n",
        "x_label = 'Title'\n",
        "title = 'Titles percentages'\n",
        "figsize = (9, 3)\n",
        "x_labels = ['Mr', 'Mrs', 'Miss','Master','Ms','Col', 'Rev', 'Dr', 'Dona']\n",
        "\n",
        "histogram_rep(df,col_name, len(df), x_label, x_labels, title, figsize)"
      ]
    },
    {
      "cell_type": "code",
      "execution_count": null,
      "metadata": {
        "trusted": true
      },
      "outputs": [],
      "source": [
        "title_result = survival_percentage(df, \"Title\")\n",
        "\n",
        "for key, value in title_result.items():\n",
        "    print(f\"precentage of {key} who survived: {value:.2f}%\")\n",
        "    \n",
        "draw_pie_chart(title_result)        #others?????"
      ]
    },
    {
      "cell_type": "code",
      "execution_count": null,
      "metadata": {
        "trusted": true
      },
      "outputs": [],
      "source": [
        "df.drop(columns=['Title'], inplace=True)\n",
        "features.remove('Title')\n",
        "print(features)"
      ]
    },
    {
      "cell_type": "code",
      "execution_count": null,
      "metadata": {
        "trusted": true
      },
      "outputs": [],
      "source": [
        "df.head()"
      ]
    },
    {
      "cell_type": "code",
      "execution_count": null,
      "metadata": {
        "trusted": true
      },
      "outputs": [],
      "source": [
        "col_name = 'Embarked'\n",
        "x_label = 'Embarked'\n",
        "x_labels = ['Q','S','C']\n",
        "title = 'Embarked percentage'\n",
        "figsize = (3,3)\n",
        "\n",
        "histogram_rep(df,col_name, len(df),x_label, x_labels, title, figsize)"
      ]
    },
    {
      "cell_type": "code",
      "execution_count": null,
      "metadata": {
        "trusted": true
      },
      "outputs": [],
      "source": [
        "embarked_result = survival_percentage(df, \"Embarked\")\n",
        "\n",
        "for key, value in embarked_result.items():\n",
        "    print(f\"precentage of {key} who survived: {value:.2f}%\")\n",
        "    \n",
        "draw_pie_chart(embarked_result)"
      ]
    },
    {
      "cell_type": "code",
      "execution_count": null,
      "metadata": {
        "trusted": true
      },
      "outputs": [],
      "source": [
        "col_name = 'Pclass'\n",
        "x_label = 'Pclass'\n",
        "x_labels = ['3rd class', '2nd class', '1st class']\n",
        "title = 'Percentage of Pclass'\n",
        "figsize = (3,4)\n",
        "\n",
        "histogram_rep(df,col_name, len(df),x_label, x_labels, title, figsize)"
      ]
    },
    {
      "cell_type": "code",
      "execution_count": null,
      "metadata": {
        "trusted": true
      },
      "outputs": [],
      "source": [
        "embarked_result = survival_percentage(df, \"Pclass\")\n",
        "\n",
        "for key, value in embarked_result.items():\n",
        "    print(f\"precentage of {key} who survived: {value:.2f}%\")\n",
        "    \n",
        "draw_pie_chart(embarked_result)"
      ]
    },
    {
      "cell_type": "code",
      "execution_count": null,
      "metadata": {
        "trusted": true
      },
      "outputs": [],
      "source": [
        "col_name = 'SibSp'\n",
        "x_label = 'SibSp'\n",
        "title = 'SibSp percentages'\n",
        "figsize = (4, 3)\n",
        "x_labels = ['0','1','2','3','4','5','8']\n",
        "\n",
        "histogram_rep(df,col_name, len(df), x_label, x_labels, title, figsize)"
      ]
    },
    {
      "cell_type": "code",
      "execution_count": null,
      "metadata": {
        "trusted": true
      },
      "outputs": [],
      "source": [
        "SibSp_result = survival_percentage(df, \"SibSp\")\n",
        "\n",
        "for key, value in SibSp_result.items():\n",
        "    print(f\"precentage of {key} who survived: {value:.2f}%\")\n",
        "    \n",
        "draw_pie_chart(SibSp_result)"
      ]
    },
    {
      "cell_type": "code",
      "execution_count": null,
      "metadata": {
        "trusted": true
      },
      "outputs": [],
      "source": [
        "col_name = 'Parch'\n",
        "x_label = 'Parch'\n",
        "title = 'Parch percentages'\n",
        "figsize = (9, 3)\n",
        "x_labels = ['0', '1', '3', '2', '4', '6','5','9']      # 8 classes\n",
        "\n",
        "histogram_rep(df,col_name, len(df), x_label, x_labels, title, figsize)"
      ]
    },
    {
      "cell_type": "code",
      "execution_count": null,
      "metadata": {
        "trusted": true
      },
      "outputs": [],
      "source": [
        "Parch_result = survival_percentage(df, \"Parch\")\n",
        "​\n",
        "for key, value in Parch_result.items():\n",
        "    print(f\"precentage of {key} who survived: {value:.2f}%\")\n",
        "    \n",
        "draw_pie_chart(Parch_result)"
      ]
    },
    {
      "cell_type": "code",
      "execution_count": null,
      "metadata": {
        "trusted": true
      },
      "outputs": [],
      "source": [
        "df['Ticket_category'] = df['Ticket'].str.split(' ').str[0]"
      ]
    },
    {
      "cell_type": "code",
      "execution_count": null,
      "metadata": {
        "trusted": true
      },
      "outputs": [],
      "source": [
        "col_name = 'Ticket'\n",
        "df['Ticket_category'] = df[col_name].apply(extract_ticket_category)\n",
        "percent('Ticket_category', len(df))"
      ]
    },
    {
      "cell_type": "code",
      "execution_count": null,
      "metadata": {
        "trusted": true
      },
      "outputs": [],
      "source": [
        "df.drop(columns=['Ticket'], inplace=True)\n",
        "features.remove('Ticket')\n",
        "features.append('Ticket_category')\n",
        "print(features)"
      ]
    },
    {
      "cell_type": "code",
      "execution_count": null,
      "metadata": {
        "trusted": true
      },
      "outputs": [],
      "source": [
        "ticket_category_counts = df['Ticket_category'].value_counts()\n",
        "\n",
        "# Extract unique categories and their counts\n",
        "categories = ticket_category_counts.index\n",
        "counts = ticket_category_counts.values\n",
        "\n",
        "# Create a scatter plot\n",
        "plt.figure(figsize=(18, 6))\n",
        "plt.scatter(categories, counts, c='blue', marker='o')\n",
        "plt.xlabel('Ticket Category')\n",
        "plt.ylabel('Count')\n",
        "plt.title('Ticket Category Distribution')\n",
        "plt.xticks(rotation=45)\n",
        "plt.grid(True)\n",
        "plt.show()"
      ]
    },
    {
      "cell_type": "code",
      "execution_count": null,
      "metadata": {
        "trusted": true
      },
      "outputs": [],
      "source": [
        "df.drop(columns=['Ticket_category'], inplace=True)\n",
        "features.remove('Ticket_category')\n",
        "print(features)"
      ]
    },
    {
      "cell_type": "code",
      "execution_count": null,
      "metadata": {
        "trusted": true
      },
      "outputs": [],
      "source": [
        "col_name = 'Fare'\n",
        "percent(col_name, len(df))\n",
        "sns.kdeplot(data=df['Fare'], color='red')"
      ]
    },
    {
      "cell_type": "code",
      "execution_count": null,
      "metadata": {
        "trusted": true
      },
      "outputs": [],
      "source": [
        "print(df.head)"
      ]
    },
    {
      "cell_type": "code",
      "execution_count": null,
      "metadata": {
        "trusted": true
      },
      "outputs": [],
      "source": [
        "# Define the features to use for prediction\n",
        "#use_features = ['Pclass', 'Sex_female', 'Sex_male', 'SibSp', 'Parch', 'Embarked_C', 'Embarked_Q', 'Embarked_S']\n",
        "\n",
        "# Filter the DataFrame to only include rows with non-null 'Fare' values\n",
        "#df_clean = df.dropna(subset=['Fare'])\n",
        "\n",
        "# Create the feature matrix X and target variable y\n",
        "#X = df_clean[use_features]\n",
        "#y = df_clean['Fare']\n",
        "\n",
        "# Create and fit the linear regression model\n",
        "#model = LinearRegression()\n",
        "#model.fit(X, y)\n",
        "\n",
        "# Filter the DataFrame to only include rows with null 'Fare' values\n",
        "#null_fare_indices = df[df['Fare'].isnull()].index\n",
        "\n",
        "# Predict missing 'Fare' values using the model\n",
        "#predicted_fares = model.predict(df.loc[null_fare_indices, use_features])\n",
        "\n",
        "# Fill the null 'Fare' values with the predicted values\n",
        "#df.loc[null_fare_indices, 'Fare'] = predicted_fares"
      ]
    },
    {
      "cell_type": "code",
      "execution_count": null,
      "metadata": {
        "trusted": true
      },
      "outputs": [],
      "source": [
        "#col_name = 'Fare'\n",
        "#percent(col_name, len(df))\n",
        "#sns.kdeplot(data=df['Fare'], color='red')"
      ]
    },
    {
      "cell_type": "code",
      "execution_count": null,
      "metadata": {
        "trusted": true
      },
      "outputs": [],
      "source": [
        "df.drop(columns=['Fare'], inplace=True)\n",
        "features.remove('Fare')\n",
        "print(features)"
      ]
    },
    {
      "cell_type": "code",
      "execution_count": null,
      "metadata": {
        "trusted": true
      },
      "outputs": [],
      "source": [
        "print(df.head)"
      ]
    },
    {
      "cell_type": "code",
      "execution_count": null,
      "metadata": {
        "trusted": true
      },
      "outputs": [],
      "source": [
        "col_name = 'Embarked'\n",
        "x_label = 'Embarked'\n",
        "title = 'Embarked percentages'\n",
        "figsize = (3, 3)\n",
        "x_labels = ['Q','S','C']\n",
        "\n",
        "histogram_rep(df,col_name, len(df), x_label, x_labels, title, figsize)"
      ]
    },
    {
      "cell_type": "code",
      "execution_count": null,
      "metadata": {
        "trusted": true
      },
      "outputs": [],
      "source": [
        "Embarked_result = survival_percentage(df, \"Embarked\")\n",
        "\n",
        "for key, value in Embarked_result.items():\n",
        "    print(f\"percentage of {key} who survived: {value:.2f}%\")\n",
        "\n",
        "draw_pie_chart(Embarked_result)"
      ]
    },
    {
      "cell_type": "code",
      "execution_count": null,
      "metadata": {
        "trusted": true
      },
      "outputs": [],
      "source": [
        "print(features)"
      ]
    },
    {
      "cell_type": "code",
      "execution_count": null,
      "metadata": {
        "trusted": true
      },
      "outputs": [],
      "source": [
        "use_features = ['Pclass', 'Sex', 'SibSp', 'Parch']\n",
        "df = pd.get_dummies(features)"
      ]
    },
    {
      "cell_type": "code",
      "execution_count": null,
      "metadata": {
        "trusted": true
      },
      "outputs": [],
      "source": [
        "df.head()"
      ]
    },
    {
      "cell_type": "code",
      "execution_count": null,
      "metadata": {
        "trusted": true
      },
      "outputs": [],
      "source": [
        "X = df[use_features]\n",
        "y = df['Survived']"
      ]
    },
    {
      "cell_type": "code",
      "execution_count": null,
      "metadata": {
        "trusted": true
      },
      "outputs": [],
      "source": [
        "X.info()\n",
        "y.info()"
      ]
    },
    {
      "cell_type": "code",
      "execution_count": null,
      "metadata": {
        "trusted": true
      },
      "outputs": [],
      "source": [
        "X_train, X_test, y_train, y_test = train_test_split(X, y, test_size=0.2, random_state=1)"
      ]
    },
    {
      "cell_type": "code",
      "execution_count": null,
      "metadata": {
        "trusted": true
      },
      "outputs": [],
      "source": [
        "X_train, X_val, y_train, y_val = train_test_split(X, y, test_size=0.2, random_state=1)"
      ]
    },
    {
      "cell_type": "code",
      "execution_count": null,
      "metadata": {
        "trusted": true
      },
      "outputs": [],
      "source": [
        "# Create and fit the model\n",
        "#model = RandomForestClassifier(n_estimators=100, max_depth=5, random_state=1)\n",
        "#model.fit(X_train, y_train)\n",
        "\n",
        "# Make predictions on both train and test data\n",
        "#train_predictions = model.predict(X_train)\n",
        "#test_predictions = model.predict(X_test)\n",
        "\n",
        "# Calculate train and test accuracy\n",
        "#train_accuracy = accuracy_score(y_train, train_predictions)\n",
        "#test_accuracy = accuracy_score(y_test, test_predictions)\n",
        "\n",
        "# Print both train and test accuracy\n",
        "#print(f\"Train Accuracy: {train_accuracy:.2%}\")\n",
        "#print(f\"Test Accuracy: {test_accuracy:.2%}\")"
      ]
    },
    {
      "cell_type": "code",
      "execution_count": null,
      "metadata": {
        "trusted": true
      },
      "outputs": [],
      "source": [
        "Assuming you have a validation set X_val and y_val\n",
        "        test_predictions = model.predict(X_test)\n",
        "\n",
        "        train_accuracy = accuracy_score(y_train, train_pred# Define a list of models to try\n",
        "models = [\n",
        "    (\"Random Forest\", RandomForestClassifier(n_estimators=100, max_depth=5, random_state=1)),\n",
        "    (\"Gradient Boosting\", GradientBoostingClassifier(n_estimators=100, max_depth=5, random_state=1)),\n",
        "    (\"Logistic Regression\", LogisticRegression(random_state=1))\n",
        "]\n",
        "\n",
        "best_model = None\n",
        "best_accuracy = 0.0\n",
        "\n",
        "for model_name, model in models:\n",
        "    print(f\"Training {model_name}...\")\n",
        "    \n",
        "    train_accuracy_list = []\n",
        "    val_accuracy_list = []\n",
        "    test_accuracy_list = []\n",
        "\n",
        "    # Train the model and track accuracy\n",
        "    for epoch in range(1, 101):  # You can adjust the number of epochs\n",
        "        model.fit(X_train, y_train)\n",
        "\n",
        "        train_predictions = model.predict(X_train)\n",
        "        val_predictions = model.predict(X_val)  # ictions)\n",
        "        val_accuracy = accuracy_score(y_val, val_predictions)\n",
        "        test_accuracy = accuracy_score(y_test, test_predictions)\n",
        "\n",
        "        train_accuracy_list.append(train_accuracy)\n",
        "        val_accuracy_list.append(val_accuracy)\n",
        "        test_accuracy_list.append(test_accuracy)\n",
        "    print(f\"{model_name} Train Accuracy: {train_accuracy:.2%}\")\n",
        "    print(f\"{model_name} Validation Accuracy: {val_accuracy:.2%}\")\n",
        "    print(f\"{model_name} Test Accuracy: {test_accuracy:.2%}\")\n",
        "    print(\"\\n\")\n",
        "\n",
        "    if val_accuracy > best_accuracy:\n",
        "        best_accuracy = val_accuracy\n",
        "        best_model = model_name\n",
        "        \n",
        "# Check if all models have similar accuracy\n",
        "similar_models = all(val == best_accuracy for val in val_accuracy_list)\n",
        "if similar_models:\n",
        "    print(\"All models have similar performance.\")\n",
        "else:\n",
        "    print(f\"The best model is {best_model} with a validation accuracy of {best_accuracy:.2%}\")   \n"
      ]
    },
    {
      "cell_type": "code",
      "execution_count": null,
      "metadata": {
        "trusted": true
      },
      "outputs": [],
      "source": [
        "plt.figure(figsize=(15, 5))\n",
        "​\n",
        "# Train accuracy vs validation accuracy\n",
        "plt.subplot(1, 2, 1)\n",
        "plt.plot(train_accuracy_list, label='Train Accuracy', c='red')\n",
        "plt.plot(val_accuracy_list, label='Validation Accuracy')\n",
        "plt.xlabel('Epochs')\n",
        "plt.ylabel('Accuracy')\n",
        "plt.title('Train Accuracy vs Validation Accuracy')\n",
        "plt.legend()\n",
        "​\n",
        "# Train accuracy vs test accuracy\n",
        "plt.subplot(1, 2, 2)\n",
        "plt.plot(train_accuracy_list, label='Train Accuracy', c='red')\n",
        "plt.plot(test_accuracy_list, label='Test Accuracy')\n",
        "plt.xlabel('Epochs')\n",
        "plt.ylabel('Accuracy')\n",
        "plt.title('Train Accuracy vs Test Accuracy')\n",
        "plt.legend()\n",
        "​\n",
        "plt.show()"
      ]
    },
    {
      "cell_type": "code",
      "execution_count": null,
      "metadata": {
        "trusted": true
      },
      "outputs": [],
      "source": [
        "for model_name, model in models:\n",
        "    print(f\"Evaluating {model_name}...\")\n",
        "    \n",
        "    # Train the model\n",
        "    model.fit(X_train, y_train)\n",
        "\n",
        "    # Make predictions\n",
        "    train_predictions = model.predict(X_train)\n",
        "    val_predictions = model.predict(X_val)  # Assuming you have a validation set X_val and y_val\n",
        "    test_predictions = model.predict(X_test)\n",
        "\n",
        "    # Calculate confusion matrix and classification report for train data\n",
        "    train_cm = confusion_matrix(y_train, train_predictions)\n",
        "    train_cr = classification_report(y_train, train_predictions, output_dict=True, zero_division=1)\n",
        "    \n",
        "    # Calculate confusion matrix and classification report for validation data\n",
        "    val_cm = confusion_matrix(y_val, val_predictions)\n",
        "    val_cr = classification_report(y_val, val_predictions, output_dict=True, zero_division=1)\n",
        "\n",
        "    # Calculate confusion matrix and classification report for test data\n",
        "    test_cm = confusion_matrix(y_test, test_predictions)\n",
        "    test_cr = classification_report(y_test, test_predictions, output_dict=True, zero_division=1)\n",
        "\n",
        "\n",
        "    \n",
        "    \n",
        "    plt.figure(figsize=(8, 6))\n",
        "    sns.heatmap(test_cm, annot=True, fmt=\"d\", cmap=\"Blues\")\n",
        "    plt.xlabel('Predicted')\n",
        "    plt.ylabel('True')\n",
        "    plt.title(f'Confusion Matrix - {model_name} (Test Data)')\n",
        "    plt.show()\n",
        "\n",
        "    # Print classification report for test data\n",
        "    print(f\"Classification Report for {model_name} - Test Data:\")\n",
        "    print(classification_report(y_test, test_predictions))\n",
        "    "
      ]
    }
  ],
  "metadata": {
    "kernelspec": {
      "display_name": "Python (Pyodide)",
      "language": "python",
      "name": "python"
    },
    "language_info": {
      "codemirror_mode": {
        "name": "python",
        "version": 3
      },
      "file_extension": ".py",
      "mimetype": "text/x-python",
      "name": "python",
      "nbconvert_exporter": "python",
      "pygments_lexer": "ipython3",
      "version": "3.8"
    }
  },
  "nbformat": 4,
  "nbformat_minor": 4
}
